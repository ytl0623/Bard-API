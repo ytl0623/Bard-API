{
  "nbformat": 4,
  "nbformat_minor": 0,
  "metadata": {
    "colab": {
      "provenance": [],
      "toc_visible": true,
      "include_colab_link": true
    },
    "kernelspec": {
      "name": "python3",
      "display_name": "Python 3"
    },
    "language_info": {
      "name": "python"
    }
  },
  "cells": [
    {
      "cell_type": "markdown",
      "metadata": {
        "id": "view-in-github",
        "colab_type": "text"
      },
      "source": [
        "<a href=\"https://colab.research.google.com/github/ytl0623/Bard-API/blob/main/BARD_API_EXAMPLE.ipynb\" target=\"_parent\"><img src=\"https://colab.research.google.com/assets/colab-badge.svg\" alt=\"Open In Colab\"/></a>"
      ]
    },
    {
      "cell_type": "markdown",
      "source": [
        "# Welcome to the Python Package Bard API Tutorial\n",
        "- Developer: Daniel Park (Minwoo Park) in Seoul, South Korea.\n",
        "- Core Maintainer: parkminwoo1991@gmail.com\n",
        "- GitHub: [https://github.com/dsdanielpark/Bard-API](https://github.com/dsdanielpark/Bard-API)\n",
        "- PyPi: [https://pypi.org/project/bardapi/](https://pypi.org/project/bardapi/)\n",
        "- License: MIT\n",
        "\n",
        "The latest updates are available on the GitHub version(`$ pip install git+https://github.com/dsdanielpark/Bard-API.git`), and everyone is welcome to contribute easily. I appreciate your contributions and love developing open-source projects with respect and consideration for each other.\n",
        "\n",
        "I sincerely thank all contributors. Please continue to use and cherish the package. We eagerly await any contributions, no matter how small, to make improvements."
      ],
      "metadata": {
        "id": "gU9J5HUp7PfW"
      }
    },
    {
      "cell_type": "markdown",
      "source": [
        "## Install"
      ],
      "metadata": {
        "id": "nxhT0jzT7SAA"
      }
    },
    {
      "cell_type": "code",
      "source": [
        "!pip install bardapi"
      ],
      "metadata": {
        "id": "pXMmgTjyR39B"
      },
      "execution_count": null,
      "outputs": []
    },
    {
      "cell_type": "markdown",
      "source": [
        "## Using `token` argument."
      ],
      "metadata": {
        "id": "rBSv-wvdkPdy"
      }
    },
    {
      "cell_type": "code",
      "source": [
        "# 01.simple usage\n",
        "from bardapi import Bard\n",
        "import os\n",
        "\n",
        "token='xxxxxxxxxx'\n",
        "\n",
        "Bard(token=token).get_answer(\"파이썬 패키지 ExceptNotifier에 대해서 설명해줘\")['content']"
      ],
      "metadata": {
        "id": "AtX5KghQkMLX"
      },
      "execution_count": null,
      "outputs": []
    },
    {
      "cell_type": "code",
      "source": [
        "# 02.with timeout variable\n",
        "from bardapi import Bard\n",
        "import os\n",
        "\n",
        "token='xxxxxxxxxx'\n",
        "\n",
        "Bard(token, timeout=10).get_answer(\"파이썬 패키지 ExceptNotifier에 대해서 설명해줘\")['content']"
      ],
      "metadata": {
        "id": "ovKpGvg_kVi4"
      },
      "execution_count": null,
      "outputs": []
    },
    {
      "cell_type": "code",
      "source": [
        "# 03. usage\n",
        "import bardapi\n",
        "import os\n",
        "\n",
        "# set your __Secure-1PSID value to key\n",
        "token='xxxxxxxxxx'\n",
        "\n",
        "# set your input text\n",
        "input_text = \"우리 동년배들이 좋아하는 뉴진스에 대해서 알려줘\"\n",
        "\n",
        "# Send an API request and get a response.\n",
        "response = bardapi.core.Bard(token).get_answer(input_text)"
      ],
      "metadata": {
        "id": "ydgsw1pKkYYp"
      },
      "execution_count": null,
      "outputs": []
    },
    {
      "cell_type": "code",
      "source": [
        "# 04. session object as argument\n",
        "from bardapi import Bard\n",
        "import os\n",
        "import requests\n",
        "\n",
        "token='xxxxxxxxxx'\n",
        "session = requests.Session()\n",
        "session.headers = {\n",
        "            \"Host\": \"bard.google.com\",\n",
        "            \"X-Same-Domain\": \"1\",\n",
        "            \"User-Agent\": \"Mozilla/5.0 (Windows NT 10.0; WOW64) AppleWebKit/537.36 (KHTML, like Gecko) Chrome/91.0.4472.114 Safari/537.36\",\n",
        "            \"Content-Type\": \"application/x-www-form-urlencoded;charset=UTF-8\",\n",
        "            \"Origin\": \"https://bard.google.com\",\n",
        "            \"Referer\": \"https://bard.google.com/\",\n",
        "        }\n",
        "session.cookies.set(\"__Secure-1PSID\", token)\n",
        "\n",
        "bard = Bard(token=token, session=session)\n",
        "bard.get_answer(\"나와 내 동년배들이 좋아하는 뉴진스에 대해서 알려줘\")['content']"
      ],
      "metadata": {
        "id": "xgcMNOfHkm_B"
      },
      "execution_count": null,
      "outputs": []
    },
    {
      "cell_type": "markdown",
      "source": [
        "## Using `_BARD_API_KEY` enviroment variable."
      ],
      "metadata": {
        "id": "0GOU331bkKpA"
      }
    },
    {
      "cell_type": "code",
      "source": [
        "# 01.simple usage\n",
        "\n",
        "from bardapi import Bard\n",
        "import os\n",
        "\n",
        "os.environ['_BARD_API_KEY']='xxxxxxxxxxxx'\n",
        "\n",
        "Bard().get_answer(\"파이썬 패키지 ExceptNotifier에 대해서 설명해줘\")['content']"
      ],
      "metadata": {
        "id": "NgiVCQK0Z_2P"
      },
      "execution_count": null,
      "outputs": []
    },
    {
      "cell_type": "code",
      "source": [
        "Bard().get_answer(\"파이썬 패키지 ExceptNotifier에 대해서 설명해줘\")['content']"
      ],
      "metadata": {
        "id": "ENZceZbXot2b"
      },
      "execution_count": null,
      "outputs": []
    },
    {
      "cell_type": "code",
      "source": [
        "# 02.with timeout variable\n",
        "\n",
        "from bardapi import Bard\n",
        "import os\n",
        "\n",
        "os.environ['_BARD_API_KEY']='xxxxxxxxxxxx'\n",
        "\n",
        "Bard(timeout=10).get_answer(\"파이썬 패키지 ExceptNotifier에 대해서 설명해줘\")['content']"
      ],
      "metadata": {
        "id": "HwAB_tqwqCoh"
      },
      "execution_count": null,
      "outputs": []
    },
    {
      "cell_type": "code",
      "execution_count": null,
      "metadata": {
        "id": "KbaWnxoIRzbq"
      },
      "outputs": [],
      "source": [
        "# 03. usage\n",
        "\n",
        "import bardapi\n",
        "import os\n",
        "\n",
        "# set your __Secure-1PSID value to key\n",
        "os.environ['_BARD_API_KEY']='xxxxxxxxxxxx'\n",
        "\n",
        "# set your input text\n",
        "input_text = \"우리 동년배들이 좋아하는 뉴진스에 대해서 알려줘\"\n",
        "\n",
        "# Send an API request and get a response.\n",
        "response = bardapi.core.Bard().get_answer(input_text)"
      ]
    },
    {
      "cell_type": "code",
      "source": [
        "response"
      ],
      "metadata": {
        "id": "RibyQTozSFUF"
      },
      "execution_count": null,
      "outputs": []
    },
    {
      "cell_type": "code",
      "source": [
        "# 04. session object as argument\n",
        "\n",
        "from bardapi import Bard\n",
        "import os\n",
        "import requests\n",
        "\n",
        "os.environ['_BARD_API_KEY']='xxxxxxxxxx'\n",
        "session = requests.Session()\n",
        "session.headers = {\n",
        "            \"Host\": \"bard.google.com\",\n",
        "            \"X-Same-Domain\": \"1\",\n",
        "            \"User-Agent\": \"Mozilla/5.0 (Windows NT 10.0; WOW64) AppleWebKit/537.36 (KHTML, like Gecko) Chrome/91.0.4472.114 Safari/537.36\",\n",
        "            \"Content-Type\": \"application/x-www-form-urlencoded;charset=UTF-8\",\n",
        "            \"Origin\": \"https://bard.google.com\",\n",
        "            \"Referer\": \"https://bard.google.com/\",\n",
        "        }\n",
        "session.cookies.set(\"__Secure-1PSID\", os.environ[\"_BARD_API_KEY\"])\n",
        "\n",
        "bard = Bard(session=session)\n",
        "bard.get_answer(\"나와 내 동년배들이 좋아하는 뉴진스에 대해서 알려줘\")['content']"
      ],
      "metadata": {
        "id": "f_iH0oqtptQ6"
      },
      "execution_count": null,
      "outputs": []
    },
    {
      "cell_type": "markdown",
      "source": [
        "# Further"
      ],
      "metadata": {
        "id": "lUGlr50izrRR"
      }
    },
    {
      "cell_type": "markdown",
      "source": [
        "## Ask about Image to Bard\n",
        "- Before executing the next method, please upload or mount the image's path in Colab.\n",
        "\n",
        "\n",
        "\n",
        "\n"
      ],
      "metadata": {
        "id": "ea8DKgWvzy7u"
      }
    },
    {
      "cell_type": "code",
      "source": [
        "from bardapi import Bard\n",
        "\n",
        "token='xxxxxxx'\n",
        "bard = Bard(token=token)\n",
        "image = open('image.jpg.png', 'rb').read() # (jpeg, png, webp) are supported.\n",
        "bard_answer = bard.ask_about_image('What is in the image?', image)\n",
        "print(bard_answer['content'])"
      ],
      "metadata": {
        "id": "953tteSJzqGM"
      },
      "execution_count": null,
      "outputs": []
    },
    {
      "cell_type": "markdown",
      "source": [
        "## Auto Cookie Bard\n",
        "- Using browser_cookie3 we extract the __Secure-1PSID cookie from all browsers, and then we can use the API without passing the token. However, there are still incomplete dependency packages and various variables, so please seek assistance in the following GitHub Issues or adjust your browser's version.\n",
        "- Visit https://bard.google.com/ in your browser and execute the following command while in the chat-enabled state. Refer to browser_cookie3 for details on how it works. If any issues arise, please restart the browser or log in to your Google account again. Recommended to keep the browser open.\n"
      ],
      "metadata": {
        "id": "rcPciyoK0Ltb"
      }
    },
    {
      "cell_type": "code",
      "source": [
        "from bardapi import Bard\n",
        "\n",
        "bard = Bard(token_from_browser=True)\n",
        "res = bard.get_answer(\"Do you like cookies?\")\n",
        "print(res['content'])"
      ],
      "metadata": {
        "id": "av43BF-H0JaX"
      },
      "execution_count": null,
      "outputs": []
    },
    {
      "cell_type": "markdown",
      "source": [
        "## Text To Speech(TTS) from Bard\n",
        "- Business users and high traffic volume may be subject to account restrictions according to Google's policies. Please use the Official Google Cloud API for any other purpose. The user is solely responsible for all code, and it is imperative to consult Google's official services and policies. Furthermore, the code in this repository is provided under the MIT license, and it disclaims any liability, including explicit or implied legal responsibilities.\n"
      ],
      "metadata": {
        "id": "6DBvtDt_0Tz_"
      }
    },
    {
      "cell_type": "code",
      "source": [
        "from bardapi import Bard\n",
        "\n",
        "bard = Bard(token='xxxxxxx')\n",
        "audio = bard.speech('Hello, I am Bard! How can I help you today?')\n",
        "with open(\"speech.ogg\", \"wb\") as f:\n",
        "  f.write(bytes(audio['audio']))"
      ],
      "metadata": {
        "id": "njyCIfoU0UB0"
      },
      "execution_count": null,
      "outputs": []
    },
    {
      "cell_type": "markdown",
      "source": [
        "## Multi-language Bard\n",
        "- For commercial use cases, please refrain from using the unofficial Google Translate package included in bardapi for non-commercial purposes. Instead, kindly visit the official Google Cloud Translation website. Please use it responsibly, taking full responsibility for your actions, as bardapi package does not assume any implicit or explicit liability.\n",
        "\n",
        "- Official Google Translation API\n",
        "\n",
        "  - Support Languages: https://cloud.google.com/translate/docs/languages?hl=ko\n",
        "  Unofficial Google Trnaslator for non-profit purposes (such as feature testing)\n",
        "\n",
        "  - Support Languages: https://github.com/nidhaloff/deep-translator/blob/master/deep_translator/constants.py"
      ],
      "metadata": {
        "id": "qMzjA5PH0tG3"
      }
    },
    {
      "cell_type": "code",
      "source": [
        "from bardapi import Bard\n",
        "\n",
        "bard = Bard(token=token, language='chinese (simplified)')\n",
        "res = bard.get_answer(\"今天首尔的天气怎么样？\")\n",
        "print(res['content'])"
      ],
      "metadata": {
        "id": "TRBuD4e70zK7"
      },
      "execution_count": null,
      "outputs": []
    },
    {
      "cell_type": "code",
      "source": [
        "from bardapi import Bard\n",
        "import os\n",
        "os.environ[\"_BARD_API_LANG\"] = 'chinese (simplified)'\n",
        "os.environ[\"_BARD_API_KEY\"] = 'xxxxxxxxx'\n",
        "\n",
        "res = Bard().get_answer(\"今天首尔的天气怎么样？\")\n",
        "print(res['content'])\n"
      ],
      "metadata": {
        "id": "Z16qjq5601WL"
      },
      "execution_count": null,
      "outputs": []
    },
    {
      "cell_type": "markdown",
      "source": [
        "## Get image links"
      ],
      "metadata": {
        "id": "WDXouNfV02fR"
      }
    },
    {
      "cell_type": "code",
      "source": [
        "from bardapi import Bard\n",
        "bard = Bard(token='xxxxxxxx')\n",
        "res = bard.get_answer(\"Find me an image of the main entrance of Stanford University.\")\n",
        "res['links'] # Get image links (list)\n",
        "res['images'] # Get images (list)"
      ],
      "metadata": {
        "id": "lGX2H4R504yk"
      },
      "execution_count": null,
      "outputs": []
    },
    {
      "cell_type": "markdown",
      "source": [
        "## ChatBard\n",
        "- Some errors in ChatBard have been fixed. However, it is recommended not to pass the value of the token through input. See detials in ChatBard with more features.\n"
      ],
      "metadata": {
        "id": "2jNwACIl05yi"
      }
    },
    {
      "cell_type": "code",
      "source": [
        "\n",
        "from bardapi import ChatBard\n",
        "\n",
        "chat = ChatBard(token=\"xxxxxxxx\", language='en')\n",
        "chat.start()\n"
      ],
      "metadata": {
        "id": "APrGq4Iw082T"
      },
      "execution_count": null,
      "outputs": []
    },
    {
      "cell_type": "code",
      "source": [
        "\n",
        "from bardapi import ChatBard\n",
        "import os\n",
        "os.environ[\"_BARD_API_KEY\"]='xxxxxxxx'   # Requird\n",
        "os.environ[\"_BARD_API_LANG\"]=\"Arabic\"     # Optional, Default to English\n",
        "os.environ[\"_BARD_API_TIMEOUT\"]=30        # Optional, Session Timeout\n",
        "\n",
        "chat = ChatBard()\n",
        "chat.start()"
      ],
      "metadata": {
        "id": "Fhsh74gk09t8"
      },
      "execution_count": null,
      "outputs": []
    },
    {
      "cell_type": "code",
      "source": [
        "from bardapi import Bard, SESSION_HEADERS\n",
        "import os\n",
        "import requests\n",
        "\n",
        "token='xxxxxxxx'\n",
        "session = requests.Session()\n",
        "session.headers = SESSION_HEADERS\n",
        "session.cookies.set(\"__Secure-1PSID\", token)\n",
        "proxies = {\n",
        "    'http': 'http://proxy.example.com:8080',\n",
        "    'https': 'https://proxy.example.com:8080'\n",
        "}\n",
        "\n",
        "ChatBard(token=token, session=session, proxies=proxies, timeout=40, language=\"chinese (simplified)\").start()\n"
      ],
      "metadata": {
        "id": "uqEirt9k0-v9"
      },
      "execution_count": null,
      "outputs": []
    },
    {
      "cell_type": "markdown",
      "source": [
        "## Export Conversation\n",
        "- It may not work as it is only available for certain accounts, regions, and other restrictions. Bard UI offers a convenient way to share a specific answer from Bard by generating a URL. This feature enables users to easily create and share URLs for individual answers.\n"
      ],
      "metadata": {
        "id": "boH0jJRO1BEt"
      }
    },
    {
      "cell_type": "code",
      "source": [
        "from bardapi import Bard\n",
        "bard = Bard(token='xxxxxxxx')\n",
        "bard_answer = bard.get_answer('How are you?')\n",
        "url = bard.export_conversation(bard_answer, title='Example Shared conversation')\n",
        "print(url['url'])\n"
      ],
      "metadata": {
        "id": "Tkx5f6ws1EXV"
      },
      "execution_count": null,
      "outputs": []
    },
    {
      "cell_type": "markdown",
      "source": [
        "## Export Code to Repl.it"
      ],
      "metadata": {
        "id": "2mKHo7_v1FVL"
      }
    },
    {
      "cell_type": "code",
      "source": [
        "from bardapi import Bard\n",
        "\n",
        "bard = Bard(token='xxxxxxxx')\n",
        "\n",
        "bard_answer = bard.get_answer(\"code python to print hello world\")\n",
        "# {'code': 'print(\"Hello World\")', 'program_lang': 'python'}\n",
        "url = bard.export_replit(\n",
        "    code=bard_answer['code'],\n",
        "    program_lang=bard_answer['program_lang'],\n",
        ")\n",
        "print(url['url']) # https://replit.com/external/v1/claims/xxx/claim\n"
      ],
      "metadata": {
        "id": "jVnj-PVR1I0k"
      },
      "execution_count": null,
      "outputs": []
    },
    {
      "cell_type": "markdown",
      "source": [
        "## Executing Python code received as a response from Bard"
      ],
      "metadata": {
        "id": "QhlrVmR51MyR"
      }
    },
    {
      "cell_type": "code",
      "source": [
        "from bardapi import Bard\n",
        "\n",
        "bard = Bard(token=\"xxxxxxxx\", run_code=True)\n",
        "bard.get_answer(\"code a pie chart in python for this data={'blue':25, 'red':30, 'green':30, 'purple':15}\")"
      ],
      "metadata": {
        "id": "kWah6ofF1PTH"
      },
      "execution_count": null,
      "outputs": []
    },
    {
      "cell_type": "markdown",
      "source": [
        "## Using Bard asynchronously\n",
        "- Using asynchronous implementation will be efficient when implementing ChatBots or something alone those lines.\n",
        "BardAsync is not using requests library instead it is using httpx library and http2 protocol.\n"
      ],
      "metadata": {
        "id": "g-QMYTJl1Rm9"
      }
    },
    {
      "cell_type": "code",
      "source": [
        "from bardapi import BardAsync\n",
        "\n",
        "bard = BardAsync(token=\"xxxxxxxx\")\n",
        "await bard.get_answer(\"What is Metaverse?\")"
      ],
      "metadata": {
        "id": "2hyKR7Nl1Wq2"
      },
      "execution_count": null,
      "outputs": []
    },
    {
      "cell_type": "code",
      "source": [
        "import asyncio\n",
        "from bardapi import BardAsync\n",
        "\n",
        "bard = BardAsync(token=\"xxxxxxxx\")\n",
        "asyncio.run(bard.get_answer(\"What is Metaverse?\"))\n",
        "\n",
        "Multi-cookie Bard"
      ],
      "metadata": {
        "id": "4VPFlaDG1ax2"
      },
      "execution_count": null,
      "outputs": []
    },
    {
      "cell_type": "code",
      "source": [
        "\n",
        "from bardapi import BardCookies\n",
        "\n",
        "cookie_dict = {\n",
        "    \"__Secure-1PSID\": \"xxxxxxxx\",\n",
        "    \"__Secure-1PSIDTS\": \"xxxxxxxx\",\n",
        "    \"__Secure-1PSIDCC\", \"xxxxxxxx\",\n",
        "    # Any cookie values you want to pass session object.\n",
        "}\n",
        "\n",
        "bard = BardCookies(cookie_dict=cookie_dict)\n",
        "print(bard.get_answer(\"こんにちは\")['content'])"
      ],
      "metadata": {
        "id": "SJf7Mgp61cu3"
      },
      "execution_count": null,
      "outputs": []
    },
    {
      "cell_type": "markdown",
      "source": [
        "## Bard with reusable session which contain mutiple cookie value\n"
      ],
      "metadata": {
        "id": "50Z8xRDT1eVj"
      }
    },
    {
      "cell_type": "code",
      "source": [
        "import requests\n",
        "from bardapi import Bard, SESSION_HEADERS\n",
        "\n",
        "session = requests.Session()\n",
        "session.cookies.set(\"__Secure-1PSID\", \"bard __Secure-1PSID token\")\n",
        "session.cookies.set( \"__Secure-1PSIDCC\", \"bard __Secure-1PSIDCC token\")\n",
        "session.cookies.set(\"__Secure-1PSIDTS\", \"bard __Secure-1PSIDTS token\")\n",
        "session.headers = SESSION_HEADERS\n",
        "\n",
        "bard = Bard(session=session)\n",
        "bard.get_answer(\"How is the weather today in seoul?\")"
      ],
      "metadata": {
        "id": "_XVyhU4t1ga3"
      },
      "execution_count": null,
      "outputs": []
    },
    {
      "cell_type": "markdown",
      "source": [
        "## Multi-cookie Bard with auto cookies from browser"
      ],
      "metadata": {
        "id": "UgHYGUqw1hVR"
      }
    },
    {
      "cell_type": "code",
      "source": [
        "\n",
        "from bardapi import Bard\n",
        "\n",
        "bard = BardCookies(token_from_browser=True)\n",
        "bard.get_answer(\"How is the weather today in seoul?\")\n",
        "\n"
      ],
      "metadata": {
        "id": "Wqcr5GZR1i9_"
      },
      "execution_count": null,
      "outputs": []
    },
    {
      "cell_type": "markdown",
      "source": [
        "## Fix Conversation ID (Fix Context)\n",
        "- BARD returns multiple responses as candidate answers. Each of these responses is assigned a conversation_id. While using a reusable session, you can observe that your prompt is stored. However, if you desire consistent answers, you can provide the desired conversation_id as an argument among the returned candidate answers.\n",
        "  - Passing only the session: Retains your prompt.\n",
        "  - Passing both session and conversation_id: Retains your prompt and allows you to receive answers with consistent parameters."
      ],
      "metadata": {
        "id": "BhB9bFWV1nH-"
      }
    },
    {
      "cell_type": "code",
      "source": [
        "from bardapi import Bard, SESSION_HEADERS\n",
        "import os\n",
        "import requests\n",
        "\n",
        "# Set token\n",
        "token= 'xxxxxxxx'\n",
        "\n",
        "# Set session\n",
        "session = requests.Session()\n",
        "session.headers = SESSION_HEADERS\n",
        "session.cookies.set(\"__Secure-1PSID\", token)\n",
        "\n",
        "# Give session and conversation id. (check manually)\n",
        "bard = Bard(token=token, session=session, conversation_id=\"c_1f04f704a788e6e4\", timeout=30)\n",
        "bard.get_answer(\"나와 내 동년배들이 좋아하는 뉴진스에 대해서 알려줘\")['content']"
      ],
      "metadata": {
        "id": "ayok5MV-1wLz"
      },
      "execution_count": null,
      "outputs": []
    },
    {
      "cell_type": "markdown",
      "source": [
        "## Translation to Another Programming Language\n",
        "- Please check the translation results in this folder.\n",
        "\n",
        "  - Copy the code of Core.py.\n",
        "  - Ask ChatGPT to translate like \"Translate to Swift.\"\n",
        "  - Ask ChatGPT to optimize the code or provide any desired instructions until you're satisfied."
      ],
      "metadata": {
        "id": "Y_jrB2c-1zUx"
      }
    },
    {
      "cell_type": "markdown",
      "source": [
        "## max_token, max_sentence\n",
        "Bard does not support temperature or hyperparameter adjustments, but it is possible to achieve the appearance of limiting the number of output tokens or the number of output sentences using simple algorithms, as follows:\n"
      ],
      "metadata": {
        "id": "JrpKHLCI16Ti"
      }
    },
    {
      "cell_type": "code",
      "source": [
        "from bardapi import Bard, max_token, max_sentence\n",
        "\n",
        "token = 'xxxxxxx'\n",
        "bard = Bard(token=token)\n",
        "\n",
        "# max_token==30\n",
        "max_token(bard.get_answer(\"나와 내 동년배들이 좋아하는 뉴진스에 대해서 알려줘\")['content'], 30)\n",
        "# max_sentence==2\n",
        "max_sentence(bard.get_answer(\"나와 내 동년배들이 좋아하는 뉴진스에 대해서 알려줘\")['content'], 2)\n"
      ],
      "metadata": {
        "id": "ZIu-2Xmz14xp"
      },
      "execution_count": null,
      "outputs": []
    },
    {
      "cell_type": "markdown",
      "source": [
        "## ChatBard with more features\n",
        "- ChatBard is a chatbot class powered by the Bard API. It allows users to have interactive conversations with the chatbot and retrieve responses from the Bard API.\n"
      ],
      "metadata": {
        "id": "FfqoTbRK2FsN"
      }
    },
    {
      "cell_type": "code",
      "source": [
        "from bardapi import ChatBard\n",
        "\n",
        "chat = ChatBard()\n",
        "chat.start()\n",
        "\n",
        "# Features\n",
        "# Customize User Prompt Users can customize the prompt displayed to the user before input by providing a custom prompt message to the start() method.\n",
        "\n",
        "chat.start(prompt=\"Enter your message: \")\n",
        "\n",
        "# Handle API Errors\n",
        "# Error handling has been implemented for API requests. If an error occurs while communicating with the Bard API, an appropriate error message will be displayed to the user.\n",
        "\n",
        "# Input Validation\n",
        "# User input is validated before sending it to the API. The input is checked for emptiness and length validation. If the input is invalid, the user is prompted to provide valid input.\n",
        "\n",
        "# Chat History\n",
        "# Chat history is stored during the conversation, including the user input and the corresponding chatbot responses. The display_chat_history() method can be called to print the chat history.\n",
        "\n",
        "chat.display_chat_history()\n",
        "\n",
        "# Multilingual Support\n",
        "# Users can select different languages for the chatbot interaction by specifying the language parameter when initializing the ChatBard object. The default language is English.\n",
        "\n",
        "chat = ChatBard(language=\"spanish\")\n",
        "\n",
        "# Improved User Experience\n",
        "# Chatbot responses are displayed using colors and formatting to enhance the user experience. User input is displayed in green, and chatbot responses are displayed in blue.\n",
        "\n",
        "# Integration with Other APIs\n",
        "# The ChatBard class focuses on the interaction with the Bard API. If you want to integrate additional APIs, you can extend the functionality by adding appropriate methods and making the necessary API calls within the ChatBard class."
      ],
      "metadata": {
        "id": "wgZO2Ixr0bHf"
      },
      "execution_count": null,
      "outputs": []
    }
  ]
}